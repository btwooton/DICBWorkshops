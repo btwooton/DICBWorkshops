{
 "cells": [
  {
   "cell_type": "code",
   "execution_count": null,
   "id": "e9637a7a-fdd4-43bd-af96-04d022738569",
   "metadata": {},
   "outputs": [],
   "source": [
    "import pandas as pd\n",
    "import numpy as np\n",
    "from matplotlib import pyplot as plt\n",
    "import seaborn as sns\n",
    "import os\n",
    "import scipy as sp\n",
    "from tqdm import tqdm"
   ]
  },
  {
   "cell_type": "markdown",
   "id": "5041c4c5-ac5c-45d5-ac29-fe13172f091c",
   "metadata": {},
   "source": [
    "# 1. Investigating Chronic Kidney Disease (CKD) in the Synthea Data"
   ]
  },
  {
   "cell_type": "markdown",
   "id": "3d3123bc-b3ca-4ecd-800c-2f4e6d5ad0ce",
   "metadata": {},
   "source": [
    "## Step 1. Loading of Relevant Data\n",
    "Data for 4,000 synthetic patients, divided into four states, was generated using the [Synthea tool](https://synthea.mitre.org/)\n",
    "This data is split into four separate directories\n",
    "```\n",
    "output_hi/ # patients in Hawaii\n",
    "output_ma/ # patients in Massacusetts\n",
    "output_tx/ # patients in Texas\n",
    "output_wa/ # patients in Washington\n",
    "```\n",
    "\n"
   ]
  },
  {
   "cell_type": "markdown",
   "id": "b5309840-b1ea-437b-985a-1e0e92a021f9",
   "metadata": {},
   "source": [
    "In the introductory primer, we worked exclusively with the patient demographics data stored in patients.csv\n",
    "For the subsequent investigation, we will be relying on two new files\n",
    "- `conditions.csv`: Stores SNOMED CT coded patient conditions and diagnoses\n",
    "- `observations.csv`: Includes vital signs and LOINC coded lab results for all patients \\\n",
    "Below is a convenience function that can be used to load the concatenated conditions and observations for all states\n",
    "into a single data frame \\\n",
    "This uses a new operation that we haven't seen previously, `pd.concat()` which is used to concatenate DataFrames \\\n",
    "together, row-wise"
   ]
  },
  {
   "cell_type": "code",
   "execution_count": null,
   "id": "7c14ccec-7d2e-4322-83ae-555fb6f15dc5",
   "metadata": {},
   "outputs": [],
   "source": [
    "def load_data_for_file(filename):\n",
    "    print(f\"Loading data for {filename}\")\n",
    "    df = pd.concat([ # use pd.concat to append/concatenate the data for all states together into a single frame\n",
    "        pd.read_parquet(f\"https://dicbworkshops.s3.amazonaws.com/{output_dir}/parquet/{filename}\") # use read_csv to load the data from each output directory\n",
    "        for output_dir in tqdm(['output_hi', 'output_ma', 'output_tx', 'output_wa']) # loop over each output directory\n",
    "    ])\n",
    "    return df"
   ]
  },
  {
   "cell_type": "code",
   "execution_count": null,
   "id": "48414f7f-c146-4fab-aa7b-89d638f8898a",
   "metadata": {},
   "outputs": [],
   "source": [
    "# load in the conditions and observations\n",
    "conditions = load_data_for_file('conditions.parquet')\n",
    "observations = load_data_for_file('observations.parquet')"
   ]
  },
  {
   "cell_type": "markdown",
   "id": "fc345435-d3c4-4787-a2f0-eebaf6a9d316",
   "metadata": {},
   "source": [
    "For this next investigation, we are interested in patients who have been diagnosed with Chronic Kidney Disease  \\\n",
    "In order to do this, we filter the conditions table to get all diagnoses of chronic kidney disease \\\n",
    "We can use the SNOMED CT codes for Stages 1 - 4 Chronic Kidney Disease\n",
    "- 431855005\tChronic kidney disease stage 1 (disorder)\n",
    "- 431856006\tChronic kidney disease stage 2 (disorder)\n",
    "- 433144002\tChronic kidney disease stage 3 (disorder)\n",
    "- 431857002\tChronic kidney disease stage 4 (disorder)\n"
   ]
  },
  {
   "cell_type": "code",
   "execution_count": null,
   "id": "af336f0c-822e-4fb8-aedf-01e2a4bfa621",
   "metadata": {},
   "outputs": [],
   "source": [
    "conditions"
   ]
  },
  {
   "cell_type": "code",
   "execution_count": null,
   "id": "9ae70ebe-9ae6-4b9b-b454-e14893e34298",
   "metadata": {},
   "outputs": [],
   "source": [
    "ckd = conditions[\n",
    "    conditions['CODE'].isin([431855005, 431856006, 433144002, 431857002])\n",
    "]"
   ]
  },
  {
   "cell_type": "markdown",
   "id": "bd5a2335-88e6-4dc2-900f-ef2fc9481db9",
   "metadata": {},
   "source": [
    "### Quick Exercise: How many patients in our data set have at least one CKD diagnosis?"
   ]
  },
  {
   "cell_type": "markdown",
   "id": "803343eb-562e-46f5-8ead-50fb6ef2a5c2",
   "metadata": {},
   "source": [
    "Now we will analyze Glomerular filtration rate in patients with various stages of CKD \\\n",
    "We can use the LOINC code for Glomerular filtration rate/1.73 : 33914-3 \\\n",
    "We also make sure we pull the normalized values, with units = mL/min/{1.73_m2}\t"
   ]
  },
  {
   "cell_type": "code",
   "execution_count": null,
   "id": "77c96fac-779a-40ca-80f5-18765a7c5fcc",
   "metadata": {},
   "outputs": [],
   "source": [
    "observations"
   ]
  },
  {
   "cell_type": "code",
   "execution_count": null,
   "id": "1a7f5441-8e41-49aa-b877-fe1d9492dcec",
   "metadata": {},
   "outputs": [],
   "source": [
    "observations[observations['DESCRIPTION'].str.contains('glomerular', case=False)]"
   ]
  },
  {
   "cell_type": "code",
   "execution_count": null,
   "id": "36261922-2b48-45f2-af06-2db7e7f1d654",
   "metadata": {},
   "outputs": [],
   "source": [
    "gfr_labs = observations.query('CODE == \"33914-3\" & UNITS == \"mL/min/{1.73_m2}\"')"
   ]
  },
  {
   "cell_type": "markdown",
   "id": "39f1bbc8-b6a2-4ecb-a2e6-48a866a82444",
   "metadata": {},
   "source": [
    "Now we want to label the GFR labs based on whether the patient had a CKD diagnosis at the time the lab was taken \\\n",
    "and which stage of CKD the patient was diagnosed with. We will use the following convention:\n",
    "- 0 for no CKD diagnosis\n",
    "- 1 - 4 for stages 1 - 4 respectively\n",
    "In order to do this correctly, we need to be careful to label the labs based on the date of the CKD diagnoses"
   ]
  },
  {
   "cell_type": "code",
   "execution_count": null,
   "id": "33f823ab-112e-439a-bb12-e055fa2b00db",
   "metadata": {},
   "outputs": [],
   "source": [
    "# for each patient with a CKD diagnosis, add the earliest start date to a dictionary data structure\n",
    "STAGE1 = 431855005\n",
    "STAGE2 = 431856006\n",
    "STAGE3 = 433144002\n",
    "STAGE4 = 431857002\n",
    "\n",
    "ckd_start_dates = {\n",
    "    STAGE1: {},\n",
    "    STAGE2: {},\n",
    "    STAGE3: {},\n",
    "    STAGE4: {}\n",
    "}\n",
    "for _, row in ckd.iterrows():\n",
    "    # get the patient, start date, and code\n",
    "    patient = row['PATIENT']\n",
    "    start = row['START']\n",
    "    code = row['CODE']\n",
    "    ckd_start_dates[code][patient] = min(ckd_start_dates[code].get(patient, '2999-99-99'), start)"
   ]
  },
  {
   "cell_type": "code",
   "execution_count": null,
   "id": "adb00a08-c31d-44cf-9222-c592b9ddd922",
   "metadata": {},
   "outputs": [],
   "source": [
    "# first assign a SIMPLE_DATE column to the bun_labs that only includes the date without time information\n",
    "gfr_labs_simp = gfr_labs.assign(\n",
    "    SIMPLE_DATE=lambda x: pd.to_datetime(x['DATE']).dt.date\n",
    ")\n"
   ]
  },
  {
   "cell_type": "code",
   "execution_count": null,
   "id": "5f7f8ef0-13d3-45d9-aa3e-f11003d9e423",
   "metadata": {},
   "outputs": [],
   "source": [
    "gfr_labs_simp"
   ]
  },
  {
   "cell_type": "code",
   "execution_count": null,
   "id": "73a94f1a-ad8c-4011-a8e4-21b84a2aadfd",
   "metadata": {},
   "outputs": [],
   "source": [
    "# now loop over the BUN labs and construct the labels systematically\n",
    "labels = []\n",
    "for _, row in gfr_labs_simp.iterrows():\n",
    "    # get the simple date\n",
    "    date = str(row['SIMPLE_DATE'])\n",
    "    # get the patient\n",
    "    patient = row['PATIENT']\n",
    "    # now check if the patient has a stage 4 diagnosis\n",
    "    if ckd_start_dates[STAGE4].get(patient, \"2099-99-99\") <= date:\n",
    "        labels.append(4)\n",
    "    elif ckd_start_dates[STAGE3].get(patient, \"2099-99-99\") <= date:\n",
    "        labels.append(3)\n",
    "    elif ckd_start_dates[STAGE2].get(patient, \"2099-99-99\") <= date:\n",
    "        labels.append(2)\n",
    "    elif ckd_start_dates[STAGE1].get(patient, \"2099-99-99\") <= date:\n",
    "        labels.append(1)\n",
    "    else:\n",
    "        labels.append(0)\n",
    "# assign the labels to the bun labs\n",
    "gfr_labs_labeled = gfr_labs_simp.assign(\n",
    "    LABEL=labels\n",
    ")"
   ]
  },
  {
   "cell_type": "markdown",
   "id": "58257265-ed54-4bde-9724-ad3d5e547025",
   "metadata": {},
   "source": [
    "Now we will plot the distributions of GFR in the different cohorts using the Seaborn package \\\n",
    "and display summary statistics for those distributions"
   ]
  },
  {
   "cell_type": "code",
   "execution_count": null,
   "id": "6df4bb1c-4f7d-4df3-8e90-be79a28a491c",
   "metadata": {},
   "outputs": [],
   "source": [
    "sns.kdeplot(\n",
    "    gfr_labs_labeled[['VALUE', 'LABEL']].astype({'VALUE': float}),\n",
    "    x='VALUE',\n",
    "    hue='LABEL',\n",
    "    common_norm=False\n",
    ")\n",
    "plt.show()"
   ]
  },
  {
   "cell_type": "code",
   "execution_count": null,
   "id": "68ddb138-6851-4869-b74b-6e393297ad2f",
   "metadata": {},
   "outputs": [],
   "source": [
    "sns.boxplot(\n",
    "    gfr_labs_labeled.astype({'VALUE': float}),\n",
    "    x='LABEL',\n",
    "    y='VALUE'\n",
    ")"
   ]
  },
  {
   "cell_type": "markdown",
   "id": "370eca74-4a87-48f0-8278-b4d7fe45b170",
   "metadata": {},
   "source": [
    "# Discussion Points\n",
    "1. What is the story with the negative outliers in the Non-CKD group (label 0)? How could we investigate this further for these specific patients?\n",
    "2. Why do we see positive GFR outliers in the Stage 3 and Stage 4 groups?"
   ]
  },
  {
   "cell_type": "code",
   "execution_count": null,
   "id": "a2db159d-721e-489d-ab7c-f80e2bc516f6",
   "metadata": {},
   "outputs": [],
   "source": []
  }
 ],
 "metadata": {
  "kernelspec": {
   "display_name": "Python 3 (ipykernel)",
   "language": "python",
   "name": "python3"
  },
  "language_info": {
   "codemirror_mode": {
    "name": "ipython",
    "version": 3
   },
   "file_extension": ".py",
   "mimetype": "text/x-python",
   "name": "python",
   "nbconvert_exporter": "python",
   "pygments_lexer": "ipython3",
   "version": "3.10.14"
  }
 },
 "nbformat": 4,
 "nbformat_minor": 5
}
