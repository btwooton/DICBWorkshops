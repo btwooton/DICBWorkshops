{
 "cells": [
  {
   "cell_type": "code",
   "execution_count": null,
   "id": "746b9425-7aaf-4d01-add3-a465512c2190",
   "metadata": {},
   "outputs": [],
   "source": [
    "import pandas as pd\n",
    "import numpy as np"
   ]
  },
  {
   "cell_type": "markdown",
   "id": "6f1e6cc9-e7c4-4ac1-8c8c-7d52ad80ee4a",
   "metadata": {},
   "source": [
    "## Loading Data Into Pandas DataFrames"
   ]
  },
  {
   "cell_type": "code",
   "execution_count": null,
   "id": "f3764a6e-69f5-4107-85f5-a2e6c80868ed",
   "metadata": {},
   "outputs": [],
   "source": [
    "# example: loading the patients.csv file from the Massachusetts output folder\n",
    "patients_ma = pd.read_csv('./output_ma/csv/patients.csv')"
   ]
  },
  {
   "cell_type": "code",
   "execution_count": null,
   "id": "a26a8f5f-fc93-4b18-b7c2-0bb1a53c6958",
   "metadata": {},
   "outputs": [],
   "source": [
    "# display the first 5 rows\n",
    "patients_ma.head(5)"
   ]
  },
  {
   "cell_type": "code",
   "execution_count": null,
   "id": "fa39f7d3-2318-4714-a2bf-2e59cd889d07",
   "metadata": {},
   "outputs": [],
   "source": [
    "# display the columns in the DataFrame\n",
    "patients_ma.columns"
   ]
  },
  {
   "cell_type": "code",
   "execution_count": null,
   "id": "10182c76-37ae-4fbf-8759-577883140523",
   "metadata": {},
   "outputs": [],
   "source": [
    "# display the columns and their datatypes\n",
    "patients_ma.dtypes"
   ]
  },
  {
   "cell_type": "code",
   "execution_count": null,
   "id": "57ae9f45-3bb3-410b-a5c2-151855fc6de4",
   "metadata": {},
   "outputs": [],
   "source": [
    "# accessing the data in a particular column\n",
    "patients_ma['FIRST']"
   ]
  },
  {
   "cell_type": "markdown",
   "id": "2db6142d-fcc4-4406-a2dd-ea6c33f8534e",
   "metadata": {},
   "source": [
    "## Basic Data Manipulation with DataFrames"
   ]
  },
  {
   "cell_type": "markdown",
   "id": "030ceeea-7047-4e9d-ae69-fdcc6797981f",
   "metadata": {},
   "source": [
    "### Counting"
   ]
  },
  {
   "cell_type": "code",
   "execution_count": null,
   "id": "3798be36-b206-49f9-86e8-760ec51f25da",
   "metadata": {},
   "outputs": [],
   "source": [
    "# count the number of male and female patients\n",
    "patients_ma['GENDER'].value_counts()"
   ]
  },
  {
   "cell_type": "markdown",
   "id": "aaf8103d-ba79-40e1-a772-351679bcc763",
   "metadata": {},
   "source": [
    "### Descriptive Statistics"
   ]
  },
  {
   "cell_type": "code",
   "execution_count": null,
   "id": "19367455-0c3c-4826-872e-244475830988",
   "metadata": {},
   "outputs": [],
   "source": [
    "# compute the average healthcare expenses\n",
    "patients_ma['HEALTHCARE_EXPENSES'].mean()"
   ]
  },
  {
   "cell_type": "code",
   "execution_count": null,
   "id": "7464dd82-9cee-4810-87ff-90e428cefac1",
   "metadata": {},
   "outputs": [],
   "source": [
    "# accessing a larger suite of descriptive statistics\n",
    "patients_ma['HEALTHCARE_EXPENSES'].describe()"
   ]
  },
  {
   "cell_type": "markdown",
   "id": "6515275b-13db-4fa0-8ccd-84d9345a2f96",
   "metadata": {},
   "source": [
    "### Filtering Rows and Columns"
   ]
  },
  {
   "cell_type": "code",
   "execution_count": null,
   "id": "070b395e-66f3-45b9-a95a-1279240e471f",
   "metadata": {},
   "outputs": [],
   "source": [
    "# Selecting only the BIRTHDATE, RACE, ETHNICITY, and SEX columns\n",
    "subset = patients_ma[['BIRTHDATE', 'RACE', 'ETHNICITY', 'GENDER']]"
   ]
  },
  {
   "cell_type": "code",
   "execution_count": null,
   "id": "5bb3fe3d-ea89-4a63-9a82-623c6a9aeae8",
   "metadata": {},
   "outputs": [],
   "source": [
    "subset"
   ]
  },
  {
   "cell_type": "code",
   "execution_count": null,
   "id": "24d4b15a-3bd6-401b-a662-d207e894a762",
   "metadata": {},
   "outputs": [],
   "source": [
    "# Selecting only patients who are female\n",
    "females = patients_ma[patients_ma['GENDER'] == 'F'] # or patients_ma.query('GENDER == \"F\"')"
   ]
  },
  {
   "cell_type": "code",
   "execution_count": null,
   "id": "bc02a924-3090-4380-a7c7-5a99a6e81526",
   "metadata": {},
   "outputs": [],
   "source": [
    "females"
   ]
  },
  {
   "cell_type": "code",
   "execution_count": null,
   "id": "d6acae92-dfa9-470e-a350-670b7cd83025",
   "metadata": {},
   "outputs": [],
   "source": [
    "# get patients born after 1990\n",
    "patients_ma[patients_ma['BIRTHDATE'] >= '1990-01-01']"
   ]
  },
  {
   "cell_type": "markdown",
   "id": "c6dccd0a-90cf-443a-ae80-06c94f65342b",
   "metadata": {},
   "source": [
    "### Sorting"
   ]
  },
  {
   "cell_type": "code",
   "execution_count": null,
   "id": "58fc90a6-1f38-4ed5-8062-2817e1a612e5",
   "metadata": {},
   "outputs": [],
   "source": [
    "# get patients born after 1990, and sort by birthdate\n",
    "patients_ma[patients_ma['BIRTHDATE'] >= '1990-01-01'].sort_values(by='BIRTHDATE')"
   ]
  },
  {
   "cell_type": "markdown",
   "id": "aa5f7d62-cc30-46b3-9077-066e3b1c1a64",
   "metadata": {},
   "source": [
    "### Assigning New Columns/Variables"
   ]
  },
  {
   "cell_type": "code",
   "execution_count": null,
   "id": "9b327216-c7b4-4d31-bec7-4d5c51839203",
   "metadata": {},
   "outputs": [],
   "source": [
    "# assign a full name column\n",
    "patients_ma['FULLNAME'] = patients_ma['FIRST'] + ' ' + patients_ma['MIDDLE'] + ' ' + patients_ma['LAST']"
   ]
  },
  {
   "cell_type": "code",
   "execution_count": null,
   "id": "e6b4d64a-1266-4942-85a6-fcde120c61ed",
   "metadata": {},
   "outputs": [],
   "source": [
    "patients_ma['FULLNAME']"
   ]
  },
  {
   "cell_type": "markdown",
   "id": "e87644a0-e9bf-4fbe-adf5-d2766def64b3",
   "metadata": {},
   "source": [
    "## Quick Exercises"
   ]
  },
  {
   "cell_type": "markdown",
   "id": "6f585516-99cc-4416-8e13-3d1e7a176768",
   "metadata": {},
   "source": [
    "### 1. What is the median income of patients born after January 1st 1995"
   ]
  },
  {
   "cell_type": "code",
   "execution_count": null,
   "id": "fde7730c-4d9c-4145-8764-b93bcffd356a",
   "metadata": {},
   "outputs": [],
   "source": [
    "# Write and run your solution here"
   ]
  },
  {
   "cell_type": "markdown",
   "id": "730eb169-332d-450f-ba86-3043113bd5ef",
   "metadata": {},
   "source": [
    "### 2. Count the number of patients in each COUNTY"
   ]
  },
  {
   "cell_type": "code",
   "execution_count": null,
   "id": "1ca64c09-a4b1-4a3f-995b-3bd33cddb393",
   "metadata": {},
   "outputs": [],
   "source": [
    "# Write and run your solution here"
   ]
  },
  {
   "cell_type": "markdown",
   "id": "f37ebb31-fa82-4f31-9de1-68fb14d0527f",
   "metadata": {},
   "source": [
    "### 3. What is the mean age (in years) of all patients?\n",
    "#### Hint: You can convert BIRTHDATE to the datetime data type using pd.to_datetime()\n",
    "#### Hint 2: You can get today's date with pd.to_datetime(\"today\")\n",
    "#### Hint 3: You can use the .dt.days method on a datetime column/series to get the value of the date expressed in days"
   ]
  },
  {
   "cell_type": "code",
   "execution_count": null,
   "id": "5d13a342-fa87-4376-8df5-66cd91b1f111",
   "metadata": {},
   "outputs": [],
   "source": [
    "# Write and run your solution here"
   ]
  },
  {
   "cell_type": "markdown",
   "id": "d6ecd978-62f0-4e33-bb80-e4a08a1bfa99",
   "metadata": {},
   "source": [
    "### 4. Count the number of patients of each RACE who are over 60\n",
    "#### Hint: If you didn't save the AGE that we computed in the last exercise to a column/variable, do that first"
   ]
  },
  {
   "cell_type": "code",
   "execution_count": null,
   "id": "1a440f69-04c6-4383-927d-0fd25da6876b",
   "metadata": {},
   "outputs": [],
   "source": [
    "# Write and run your solution here"
   ]
  },
  {
   "cell_type": "code",
   "execution_count": null,
   "id": "71840d93-0ac7-4e64-a0d3-a8a5393ca21a",
   "metadata": {},
   "outputs": [],
   "source": []
  }
 ],
 "metadata": {
  "kernelspec": {
   "display_name": "Python 3 (ipykernel)",
   "language": "python",
   "name": "python3"
  },
  "language_info": {
   "codemirror_mode": {
    "name": "ipython",
    "version": 3
   },
   "file_extension": ".py",
   "mimetype": "text/x-python",
   "name": "python",
   "nbconvert_exporter": "python",
   "pygments_lexer": "ipython3",
   "version": "3.10.14"
  }
 },
 "nbformat": 4,
 "nbformat_minor": 5
}
